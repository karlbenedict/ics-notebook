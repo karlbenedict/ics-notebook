{
 "cells": [
  {
   "cell_type": "code",
   "execution_count": null,
   "metadata": {
    "collapsed": false
   },
   "outputs": [],
   "source": [
    "# Upgrading Pandas for better rolling window support\n",
    "!pip install icalendar\n",
    "!pip install -I pandas==0.18.1"
   ]
  },
  {
   "cell_type": "code",
   "execution_count": null,
   "metadata": {
    "collapsed": false
   },
   "outputs": [],
   "source": [
    "%matplotlib inline\n",
    "\n",
    "import datetime\n",
    "import pandas as pd\n",
    "import numpy as np\n",
    "import matplotlib as mpl\n",
    "import pylab as plt\n",
    "\n",
    "mpl.rcParams['savefig.dpi'] = 1.5 * mpl.rcParams['savefig.dpi']\n",
    "mpl.style.use('ggplot')\n",
    "\n",
    "pd.set_option('display.max_columns', 15)\n",
    "pd.set_option('display.width', 500)\n",
    "\n",
    "# CONFIG\n",
    "MY_EMAIL_ADDRESS = \"phartig@twitter.com\"\n",
    "INPUT_FILE = 'phartig@twitter.com.ics'\n",
    "START_DATE = pd.Timestamp(\"2013-09-16\")"
   ]
  },
  {
   "cell_type": "code",
   "execution_count": null,
   "metadata": {
    "collapsed": false
   },
   "outputs": [],
   "source": [
    "from icalendar import Calendar, Event, vCalAddress\n",
    "\n",
    "with open(INPUT_FILE, 'r') as fp:\n",
    "    cal = Calendar.from_ical(fp.read())"
   ]
  },
  {
   "cell_type": "code",
   "execution_count": null,
   "metadata": {
    "collapsed": false
   },
   "outputs": [],
   "source": [
    "pd.Timestamp(\"2013-09-16\")"
   ]
  },
  {
   "cell_type": "code",
   "execution_count": null,
   "metadata": {
    "collapsed": false
   },
   "outputs": [],
   "source": [
    "is_confirmed = lambda c: c.get('STATUS') == 'CONFIRMED'\n",
    "is_allday = lambda c: c.get('dtend') is None\n",
    "is_event_type = lambda c, t: c.name == t\n",
    "is_special = lambda c: c.get('summary') is not None and c.get('summary').lower() in ['gym', 'grab dinner', 'work out', 'private meeting']\n",
    "\n",
    "def is_accepted(component):\n",
    "    attendees = component.get('attendee')\n",
    "    attendees = attendees if type(attendees) == list else [attendees]\n",
    "    me = list(filter(lambda x: x == vCalAddress('mailto:' + MY_EMAIL_ADDRESS), attendees))\n",
    "    \n",
    "    if not me:\n",
    "        return False\n",
    "    else:\n",
    "        return me[0].params['PARTSTAT'] == 'ACCEPTED'\n",
    "\n",
    "\n",
    "def normalize_date(d):\n",
    "    ts = pd.Timestamp(d)\n",
    "    if ts.tz is None:\n",
    "        return ts.tz_localize('UTC')\n",
    "    else:\n",
    "        return ts.tz_convert('UTC')\n",
    "    \n",
    "meetings = []\n",
    "\n",
    "\n",
    "for component in cal.walk():\n",
    "    if all([is_event_type(component, \"VEVENT\"),\n",
    "            is_confirmed(component),\n",
    "            not is_allday(component),\n",
    "            is_accepted(component),\n",
    "            not is_special(component)]):\n",
    "        meetings.append([component.get('summary'), normalize_date(component.get('dtstart').dt), normalize_date(component.get('dtend').dt)])\n",
    "            \n",
    "m = pd.DataFrame(meetings, columns=['summary', 'start', 'end'])\n",
    "m['duration'] = m['end'] - m['start']\n",
    "m = m[m['start'] <= pd.Timestamp(datetime.datetime.now())]\n",
    "m = m[m['start'] >= START_DATE]"
   ]
  },
  {
   "cell_type": "code",
   "execution_count": null,
   "metadata": {
    "collapsed": false
   },
   "outputs": [],
   "source": [
    "m.sort_values('start', inplace=True)\n",
    "m.head(10)"
   ]
  },
  {
   "cell_type": "code",
   "execution_count": null,
   "metadata": {
    "collapsed": false
   },
   "outputs": [],
   "source": [
    "m_ = m[m['duration'] < datetime.timedelta(hours=8)]\n",
    "total = m_['duration']\n",
    "\n",
    "bus_days = np.busday_count(m.iloc[0]['start'].date(), m.iloc[-1]['end'].date())\n",
    "\n",
    "print(\"Time analyzed:\", m.iloc[-1]['end'] - m.iloc[0]['start'])\n",
    "print(\"Business days analyzed:\", bus_days)\n",
    "print(\"Total # of meetings:\", total.count())\n",
    "print(\"Total time in meetings:\", m_['duration'].sum())\n",
    "print(\"Time in meetings per business day: {!s}\".format(np.timedelta64(m_['duration'].sum() / bus_days, 'm')))"
   ]
  },
  {
   "cell_type": "code",
   "execution_count": null,
   "metadata": {
    "collapsed": false,
    "scrolled": false
   },
   "outputs": [],
   "source": [
    "m_.sort_values('duration', ascending=False)"
   ]
  },
  {
   "cell_type": "code",
   "execution_count": null,
   "metadata": {
    "collapsed": false
   },
   "outputs": [],
   "source": [
    "hist = m_[m_['duration'] < datetime.timedelta(hours=4)]['duration'] \\\n",
    "    .apply(lambda x: pd.to_timedelta(x, unit='m').seconds / 60) \\\n",
    "    .hist(bins=25)\n",
    "\n",
    "hist.set_title(\"Meeting Duration\")\n",
    "hist.set_ylabel(\"Frequency\")\n",
    "hist.set_xlabel(\"Duration (minutes)\")"
   ]
  },
  {
   "cell_type": "code",
   "execution_count": null,
   "metadata": {
    "collapsed": false
   },
   "outputs": [],
   "source": [
    "m_[m_['duration'] == datetime.timedelta(hours=2)]"
   ]
  },
  {
   "cell_type": "code",
   "execution_count": null,
   "metadata": {
    "collapsed": false
   },
   "outputs": [],
   "source": [
    "m2 = m_.copy()\n",
    "m2.set_index('end', inplace=True)\n",
    "m2 = m2.sort_index().truncate(before=m.iloc[0]['start'], after=m.iloc[-1]['end'])\n",
    "win = m2['duration']\\\n",
    "    .map(lambda x: x.total_seconds() / 60 * 60)\\\n",
    "    .groupby(pd.TimeGrouper('D'))\\\n",
    "    .transform(np.sum)\\\n",
    "    .resample('D')\\\n",
    "    .mean()\\\n",
    "    .dropna()\\\n",
    "    .rolling(window=15)\\\n",
    "    .mean()\\\n",
    "    .plot()\n",
    "    \n",
    "win.set_title('Rolling Window of Time in Meetings')\n",
    "win.set_xlabel('Time')\n",
    "win.set_ylabel('Minutes in Meetings')"
   ]
  },
  {
   "cell_type": "code",
   "execution_count": null,
   "metadata": {
    "collapsed": false
   },
   "outputs": [],
   "source": [
    "m3 = m_.copy()\n",
    "m3.set_index('start', inplace=True)\n",
    "m3.tail()"
   ]
  }
 ],
 "metadata": {
  "kernelspec": {
   "display_name": "Python 3",
   "language": "python",
   "name": "python3"
  },
  "language_info": {
   "codemirror_mode": {
    "name": "ipython",
    "version": 3
   },
   "file_extension": ".py",
   "mimetype": "text/x-python",
   "name": "python",
   "nbconvert_exporter": "python",
   "pygments_lexer": "ipython3",
   "version": "3.5.2"
  }
 },
 "nbformat": 4,
 "nbformat_minor": 0
}
